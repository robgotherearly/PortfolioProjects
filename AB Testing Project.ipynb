{
 "cells": [
  {
   "cell_type": "markdown",
   "id": "dc9f188e",
   "metadata": {},
   "source": [
    "# A/B Testing using Python"
   ]
  },
  {
   "cell_type": "code",
   "execution_count": null,
   "id": "a50a0d5c",
   "metadata": {},
   "outputs": [],
   "source": [
    "# Import the necessary libraries\n",
    "import pandas as pd  # For data manipulation\n",
    "import datetime  # For datetime-related functions\n",
    "from datetime import date, timedelta  # Specific date and timedelta handling\n",
    "import plotly.graph_objects as go  # For creating interactive graphs\n",
    "import plotly.express as px  # A high-level interface for creating Plotly graphs\n",
    "import plotly.io as pio  # For configuring Plotly templates\n",
    "\n",
    "# Set the default Plotly template to \"plotly_white\" for a white background\n",
    "pio.templates.default = \"plotly_white\"\n",
    "\n",
    "# Load data from the \"control_group.csv\" and \"test_group.csv\" files\n",
    "control_data = pd.read_csv(\"C:/Users/Kingsley Mills/Desktop/DS PROJECTS/AB Testing/control_group.csv\", sep=\";\")\n",
    "test_data = pd.read_csv(\"C:/Users/Kingsley Mills/Desktop/DS PROJECTS/AB Testing/test_group.csv\", sep=\";\")\n"
   ]
  },
  {
   "cell_type": "code",
   "execution_count": null,
   "id": "35fbda16",
   "metadata": {},
   "outputs": [],
   "source": [
    "print(control_data.head())"
   ]
  },
  {
   "cell_type": "code",
   "execution_count": null,
   "id": "8fe59b1a",
   "metadata": {},
   "outputs": [],
   "source": [
    "print(test_data.head())"
   ]
  },
  {
   "cell_type": "markdown",
   "id": "3b8cf138",
   "metadata": {},
   "source": [
    "# Data Preparation"
   ]
  },
  {
   "cell_type": "code",
   "execution_count": null,
   "id": "d3a6cf2e",
   "metadata": {},
   "outputs": [],
   "source": [
    "# Rename the columns of the control_data DataFrame\n",
    "control_data.columns = [\"Campaign Name\", \"Date\", \"Amount Spent\", \n",
    "                        \"Number of Impressions\", \"Reach\", \"Website Clicks\", \n",
    "                        \"Searches Received\", \"Content Viewed\", \"Added to Cart\",\n",
    "                        \"Purchases\"]\n",
    "\n",
    "# Rename the columns of the test_data DataFrame\n",
    "test_data.columns = [\"Campaign Name\", \"Date\", \"Amount Spent\", \n",
    "                        \"Number of Impressions\", \"Reach\", \"Website Clicks\", \n",
    "                        \"Searches Received\", \"Content Viewed\", \"Added to Cart\",\n",
    "                        \"Purchases\"]\n"
   ]
  },
  {
   "cell_type": "code",
   "execution_count": null,
   "id": "b8d464cd",
   "metadata": {},
   "outputs": [],
   "source": [
    "# Check for missing values (NaN or null) in each column of the control_data DataFrame\n",
    "missing_values_count = control_data.isnull().sum()\n",
    "\n",
    "# Print the count of missing values for each column\n",
    "print(missing_values_count)\n"
   ]
  },
  {
   "cell_type": "code",
   "execution_count": null,
   "id": "a2d4f80a",
   "metadata": {},
   "outputs": [],
   "source": [
    "# Check for missing values (NaN or null) in each column of the test_data DataFrame\n",
    "missing_values_count = test_data.isnull().sum()\n",
    "\n",
    "# Print the count of missing values for each column\n",
    "print(missing_values_count)\n"
   ]
  },
  {
   "cell_type": "code",
   "execution_count": null,
   "id": "4ab53ca0",
   "metadata": {},
   "outputs": [],
   "source": [
    "# Fill missing values in the \"Number of Impressions\" column with the mean value of that column\n",
    "control_data[\"Number of Impressions\"].fillna(value=control_data[\"Number of Impressions\"].mean(), inplace=True)\n",
    "\n",
    "# Fill missing values in the \"Reach\" column with the mean value of that column\n",
    "control_data[\"Reach\"].fillna(value=control_data[\"Reach\"].mean(), inplace=True)\n",
    "\n",
    "# Fill missing values in the \"Website Clicks\" column with the mean value of that column\n",
    "control_data[\"Website Clicks\"].fillna(value=control_data[\"Website Clicks\"].mean(), inplace=True)\n",
    "\n",
    "# Fill missing values in the \"Searches Received\" column with the mean value of that column\n",
    "control_data[\"Searches Received\"].fillna(value=control_data[\"Searches Received\"].mean(), inplace=True)\n",
    "\n",
    "# Fill missing values in the \"Content Viewed\" column with the mean value of that column\n",
    "control_data[\"Content Viewed\"].fillna(value=control_data[\"Content Viewed\"].mean(), inplace=True)\n",
    "\n",
    "# Fill missing values in the \"Added to Cart\" column with the mean value of that column\n",
    "control_data[\"Added to Cart\"].fillna(value=control_data[\"Added to Cart\"].mean(), inplace=True)\n",
    "\n",
    "# Fill missing values in the \"Purchases\" column with the mean value of that column\n",
    "control_data[\"Purchases\"].fillna(value=control_data[\"Purchases\"].mean(), inplace=True)\n"
   ]
  },
  {
   "cell_type": "code",
   "execution_count": null,
   "id": "a6ee0914",
   "metadata": {},
   "outputs": [],
   "source": [
    "# Merge control_data and test_data DataFrames using an outer join on the \"Date\" column\n",
    "ab_data = control_data.merge(test_data, how=\"outer\").sort_values([\"Date\"])\n",
    "\n",
    "# Reset the index of the merged DataFrame and drop the old index\n",
    "ab_data = ab_data.reset_index(drop=True)\n",
    "\n",
    "# Print the first few rows of the merged DataFrame\n",
    "print(ab_data.head())\n"
   ]
  },
  {
   "cell_type": "code",
   "execution_count": null,
   "id": "8fea2802",
   "metadata": {},
   "outputs": [],
   "source": [
    "# Count the occurrences of each unique campaign name in the \"Campaign Name\" column\n",
    "campaign_name_counts = ab_data[\"Campaign Name\"].value_counts()\n",
    "\n",
    "# Print the frequency of each campaign name\n",
    "print(campaign_name_counts)\n"
   ]
  },
  {
   "cell_type": "markdown",
   "id": "0e8d4d95",
   "metadata": {},
   "source": [
    "I will begin by examining the relationship between the number of impressions received from both campaigns and the respective amounts spent on those campaigns."
   ]
  },
  {
   "cell_type": "code",
   "execution_count": null,
   "id": "8789d038",
   "metadata": {},
   "outputs": [],
   "source": [
    "# Create a scatter plot using Plotly Express\n",
    "figure = px.scatter(data_frame=ab_data,  # The DataFrame to use for the plot\n",
    "                    x=\"Number of Impressions\",  # X-axis variable\n",
    "                    y=\"Amount Spent\",  # Y-axis variable\n",
    "                    size=\"Amount Spent\",  # Size of data points based on \"Amount Spent\"\n",
    "                    color=\"Campaign Name\",  # Color data points by \"Campaign Name\"\n",
    "                    trendline=\"ols\"  # Add an ordinary least squares (OLS) trendline\n",
    ")\n",
    "\n",
    "# Show the plot\n",
    "figure.show()\n"
   ]
  },
  {
   "cell_type": "markdown",
   "id": "7e30b5e1",
   "metadata": {},
   "source": [
    "The control campaign yielded a higher number of impressions relative to the amount spent on both campaigns. Now, let's shift our focus to the number of searches conducted on the website from both campaigns."
   ]
  },
  {
   "cell_type": "code",
   "execution_count": null,
   "id": "8a154111",
   "metadata": {},
   "outputs": [],
   "source": [
    "# A pie chart to compare the total searches received in the control and test campaigns.\n",
    "\n",
    "label = [\"Total Searches from Control Campaign\", \n",
    "         \"Total Searches from Test Campaign\"]\n",
    "counts = [sum(control_data[\"Searches Received\"]), \n",
    "          sum(test_data[\"Searches Received\"])]\n",
    "colors = ['pink','lightblue']\n",
    "fig = go.Figure(data=[go.Pie(labels=label, values=counts)])\n",
    "fig.update_layout(title_text='Control Vs Test: Searches')\n",
    "fig.update_traces(hoverinfo='label+percent', textinfo='value', \n",
    "                  textfont_size=30,\n",
    "                  marker=dict(colors=colors, \n",
    "                              line=dict(color='black', width=3)))\n",
    "fig.show()\n",
    "\n"
   ]
  },
  {
   "cell_type": "markdown",
   "id": "613dc291",
   "metadata": {},
   "source": [
    "The test campaign led to a higher volume of searches on the website. Now, let's turn our attention to the number of website clicks from both campaigns."
   ]
  },
  {
   "cell_type": "code",
   "execution_count": null,
   "id": "08e65145",
   "metadata": {},
   "outputs": [],
   "source": [
    "# A pie chart to compare the total website clicks in the control and test campaigns.\n",
    "\n",
    "label = [\"Website Clicks from Control Campaign\", \n",
    "         \"Website Clicks from Test Campaign\"]\n",
    "counts = [sum(control_data[\"Website Clicks\"]), \n",
    "          sum(test_data[\"Website Clicks\"])]\n",
    "colors = ['pink','lightblue']\n",
    "fig = go.Figure(data=[go.Pie(labels=label, values=counts)])\n",
    "fig.update_layout(title_text='Control Vs Test: Website Clicks')\n",
    "fig.update_traces(hoverinfo='label+percent', textinfo='value', \n",
    "                  textfont_size=30,\n",
    "                  marker=dict(colors=colors, \n",
    "                              line=dict(color='black', width=3)))\n",
    "fig.show()\n",
    "\n"
   ]
  },
  {
   "cell_type": "markdown",
   "id": "438e8a6e",
   "metadata": {},
   "source": [
    "The test campaign emerges as the winner in terms of the number of website clicks. Now, let's proceed to examine the amount of content viewed after visitors reached the website from both campaigns."
   ]
  },
  {
   "cell_type": "code",
   "execution_count": null,
   "id": "bd8345d7",
   "metadata": {},
   "outputs": [],
   "source": [
    "#  A pie chart to compare the total content viewed in the control and test campaigns.\n",
    "\n",
    "label = [\"Content Viewed from Control Campaign\", \n",
    "         \"Content Viewed from Test Campaign\"]\n",
    "counts = [sum(control_data[\"Content Viewed\"]), \n",
    "          sum(test_data[\"Content Viewed\"])]\n",
    "colors = ['pink','lightblue']\n",
    "fig = go.Figure(data=[go.Pie(labels=label, values=counts)])\n",
    "fig.update_layout(title_text='Control Vs Test: Content Viewed')\n",
    "fig.update_traces(hoverinfo='label+percent', textinfo='value', \n",
    "                  textfont_size=30,\n",
    "                  marker=dict(colors=colors, \n",
    "                              line=dict(color='black', width=3)))\n",
    "fig.show()\n"
   ]
  },
  {
   "cell_type": "markdown",
   "id": "c418112c",
   "metadata": {},
   "source": [
    "The audience of the control campaign observed a greater amount of content compared to the test campaign. Although the difference is not substantial, considering the relatively low website clicks in the control campaign, its engagement on the website surpasses that of the test campaign. Now, let's shift our focus to the number of products added to the cart from both campaigns."
   ]
  },
  {
   "cell_type": "code",
   "execution_count": null,
   "id": "1c33bd7d",
   "metadata": {},
   "outputs": [],
   "source": [
    "# A pie chart to compare the total products added to the cart in the control and test campaigns.\n",
    "\n",
    "label = [\"Products Added to Cart from Control Campaign\", \n",
    "         \"Products Added to Cart from Test Campaign\"]\n",
    "counts = [sum(control_data[\"Added to Cart\"]), \n",
    "          sum(test_data[\"Added to Cart\"])]\n",
    "colors = ['pink','lightblue']\n",
    "fig = go.Figure(data=[go.Pie(labels=label, values=counts)])\n",
    "fig.update_layout(title_text='Control Vs Test: Added to Cart')\n",
    "fig.update_traces(hoverinfo='label+percent', textinfo='value', \n",
    "                  textfont_size=30,\n",
    "                  marker=dict(colors=colors, \n",
    "                              line=dict(color='black', width=3)))\n",
    "fig.show()\n"
   ]
  },
  {
   "cell_type": "markdown",
   "id": "36bfdba0",
   "metadata": {},
   "source": [
    "Despite having fewer website clicks, the control campaign managed to accumulate more products added to the cart. Now, let's examine the amount spent on both campaigns."
   ]
  },
  {
   "cell_type": "code",
   "execution_count": null,
   "id": "771e2c54",
   "metadata": {},
   "outputs": [],
   "source": [
    "# A pie chart to compare the total amount spent in the control and test campaigns.\n",
    "\n",
    "label = [\"Amount Spent in Control Campaign\", \n",
    "         \"Amount Spent in Test Campaign\"]\n",
    "counts = [sum(control_data[\"Amount Spent\"]), \n",
    "          sum(test_data[\"Amount Spent\"])]\n",
    "colors = ['pink','lightblue']\n",
    "fig = go.Figure(data=[go.Pie(labels=label, values=counts)])\n",
    "fig.update_layout(title_text='Control Vs Test: Amount Spent')\n",
    "fig.update_traces(hoverinfo='label+percent', textinfo='value', \n",
    "                  textfont_size=30,\n",
    "                  marker=dict(colors=colors, \n",
    "                              line=dict(color='black', width=3)))\n",
    "fig.show()"
   ]
  },
  {
   "cell_type": "markdown",
   "id": "cb5e4f79",
   "metadata": {},
   "source": [
    "The amount spent on the test campaign surpasses that of the control campaign. However, considering that the control campaign generated more content views and more products in the cart, it appears that the control campaign is more efficient than the test campaign. Now, let's proceed to examine the purchases made by both campaigns."
   ]
  },
  {
   "cell_type": "code",
   "execution_count": null,
   "id": "2e6f321f",
   "metadata": {},
   "outputs": [],
   "source": [
    "# A pie chart to compare the total purchases made in the control and test campaigns.\n",
    "\n",
    "label = [\"Purchases Made by Control Campaign\", \n",
    "         \"Purchases Made by Test Campaign\"]\n",
    "counts = [sum(control_data[\"Purchases\"]), \n",
    "          sum(test_data[\"Purchases\"])]\n",
    "colors = ['pink','lightblue']\n",
    "fig = go.Figure(data=[go.Pie(labels=label, values=counts)])\n",
    "fig.update_layout(title_text='Control Vs Test: Purchases')\n",
    "fig.update_traces(hoverinfo='label+percent', textinfo='value', \n",
    "                  textfont_size=30,\n",
    "                  marker=dict(colors=colors, \n",
    "                              line=dict(color='black', width=3)))\n",
    "fig.show()\n"
   ]
  },
  {
   "cell_type": "markdown",
   "id": "e37a525c",
   "metadata": {},
   "source": [
    "There's only a marginal difference of approximately 1% in the purchases made from both ad campaigns. Since the control campaign achieved more sales with a lower marketing expenditure, the control campaign emerges as the winner in this aspect.\n",
    "\n",
    "Let's delve into the analysis of some key metrics to determine which ad campaign converts more effectively. We'll begin by examining the relationship between the number of website clicks and content viewed from both campaigns."
   ]
  },
  {
   "cell_type": "code",
   "execution_count": null,
   "id": "45345da2",
   "metadata": {},
   "outputs": [],
   "source": [
    "# Create a scatter plot using Plotly Express\n",
    "figure = px.scatter(data_frame=ab_data,  # The DataFrame to use for the plot\n",
    "                    x=\"Content Viewed\",  # X-axis variable\n",
    "                    y=\"Website Clicks\",  # Y-axis variable\n",
    "                    size=\"Website Clicks\",  # Size of data points based on \"Website Clicks\"\n",
    "                    color=\"Campaign Name\",  # Color data points by \"Campaign Name\"\n",
    "                    trendline=\"ols\"  # Add an ordinary least squares (OLS) trendline\n",
    ")\n",
    "\n",
    "# Show the plot\n",
    "figure.show()\n"
   ]
  },
  {
   "cell_type": "markdown",
   "id": "64b19404",
   "metadata": {},
   "source": [
    "The test campaign records higher website clicks, but the engagement derived from these clicks is higher in the control campaign. Therefore, the control campaign secures a victory in this aspect.\n",
    "\n",
    "Now, let's proceed with the analysis of the relationship between the amount of content viewed and the number of products added to the cart from both campaigns."
   ]
  },
  {
   "cell_type": "code",
   "execution_count": null,
   "id": "e3850588",
   "metadata": {},
   "outputs": [],
   "source": [
    "# Create a scatter plot using Plotly Express\n",
    "figure = px.scatter(data_frame=ab_data,  # The DataFrame to use for the plot\n",
    "                    x=\"Added to Cart\",  # X-axis variable\n",
    "                    y=\"Content Viewed\",  # Y-axis variable\n",
    "                    size=\"Added to Cart\",  # Size of data points based on \"Added to Cart\"\n",
    "                    color=\"Campaign Name\",  # Color data points by \"Campaign Name\"\n",
    "                    trendline=\"ols\"  # Add an ordinary least squares (OLS) trendline\n",
    ")\n",
    "\n",
    "# Show the plot\n",
    "figure.show()\n"
   ]
  },
  {
   "cell_type": "markdown",
   "id": "519b3932",
   "metadata": {},
   "source": [
    "Once again, the control campaign emerges as the winner! Now, let's shift our focus to the relationship between the number of products added to the cart and the number of sales from both campaigns."
   ]
  },
  {
   "cell_type": "code",
   "execution_count": null,
   "id": "9bd8eac4",
   "metadata": {},
   "outputs": [],
   "source": [
    "# Create a scatter plot using Plotly Express\n",
    "figure = px.scatter(data_frame=ab_data,  # The DataFrame to use for the plot\n",
    "                    x=\"Purchases\",  # X-axis variable\n",
    "                    y=\"Added to Cart\",  # Y-axis variable\n",
    "                    size=\"Purchases\",  # Size of data points based on \"Purchases\"\n",
    "                    color=\"Campaign Name\",  # Color data points by \"Campaign Name\"\n",
    "                    trendline=\"ols\"  # Add an ordinary least squares (OLS) trendline\n",
    ")\n",
    "\n",
    "# Show the plot\n",
    "figure.show()\n"
   ]
  },
  {
   "cell_type": "markdown",
   "id": "4ac5a332",
   "metadata": {},
   "source": [
    "Despite the control campaign generating more sales and having a higher number of products in the cart, it's worth noting that the conversion rate of the test campaign is higher."
   ]
  },
  {
   "cell_type": "markdown",
   "id": "4a5f36ab",
   "metadata": {},
   "source": [
    "# Conclusion\n",
    "From the above A/B tests, it's evident that the control campaign achieved more sales and higher visitor engagement. The control campaign received greater attention, with more products viewed, leading to a higher number of products in the cart and ultimately more sales. However, it's essential to note that the conversion rate of products in the cart is higher in the test campaign. The test campaign succeeded in generating more sales in relation to the products viewed and added to the cart. In summary, the test campaign can be effectively used to market a specific product to a targeted audience, while the control campaign is well-suited for promoting multiple products to a broader audience."
   ]
  },
  {
   "cell_type": "code",
   "execution_count": null,
   "id": "2517291a",
   "metadata": {},
   "outputs": [],
   "source": []
  }
 ],
 "metadata": {
  "kernelspec": {
   "display_name": "Python 3 (ipykernel)",
   "language": "python",
   "name": "python3"
  },
  "language_info": {
   "codemirror_mode": {
    "name": "ipython",
    "version": 3
   },
   "file_extension": ".py",
   "mimetype": "text/x-python",
   "name": "python",
   "nbconvert_exporter": "python",
   "pygments_lexer": "ipython3",
   "version": "3.9.7"
  }
 },
 "nbformat": 4,
 "nbformat_minor": 5
}
